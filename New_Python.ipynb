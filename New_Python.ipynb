{
 "cells": [
  {
   "cell_type": "code",
   "execution_count": 1,
   "metadata": {},
   "outputs": [],
   "source": [
    "import pyodbc"
   ]
  },
  {
   "cell_type": "code",
   "execution_count": null,
   "metadata": {},
   "outputs": [],
   "source": [
    "#Connecting to SQL Server from python"
   ]
  },
  {
   "cell_type": "code",
   "execution_count": null,
   "metadata": {
    "scrolled": false
   },
   "outputs": [],
   "source": [
    "cnxn = pyodbc.connect(r'Driver={SQL Server};Server=KTCL-5CG9362KK1\\SQLEXPRESS;Database=New_PyhonDb;Trusted_Connection=yes;')\n",
    "cursor = cnxn.cursor()\n",
    "cursor.execute(\"SELECT * FROM [dbo].[Global Superstore-1]\")\n",
    "while 1:\n",
    "    row = cursor.fetchone()\n",
    "    if not row:\n",
    "        break\n",
    "    print(row)\n",
    "cnxn.close()\n"
   ]
  },
  {
   "cell_type": "code",
   "execution_count": null,
   "metadata": {},
   "outputs": [],
   "source": [
    "#Finding the Max of sales"
   ]
  },
  {
   "cell_type": "code",
   "execution_count": 3,
   "metadata": {},
   "outputs": [
    {
     "name": "stdout",
     "output_type": "stream",
     "text": [
      "[(22638.48, )]\n"
     ]
    }
   ],
   "source": [
    "cnxn = pyodbc.connect(r'Driver={SQL Server};Server=KTCL-5CG9362KK1\\SQLEXPRESS;Database=New_PyhonDb;Trusted_Connection=yes;')\n",
    "cursor = cnxn.cursor()\n",
    "result = cursor.execute(\"SELECT MAX([Sales]) FROM [dbo].[Global Superstore-1]\").fetchall()\n",
    "print(result)\n",
    "cnxn.close()\n"
   ]
  },
  {
   "cell_type": "code",
   "execution_count": null,
   "metadata": {},
   "outputs": [],
   "source": [
    "#Updating the records to the table "
   ]
  },
  {
   "cell_type": "code",
   "execution_count": null,
   "metadata": {},
   "outputs": [],
   "source": [
    "cnxn = pyodbc.connect(r'Driver={SQL Server};Server=KTCL-5CG9362KK1\\SQLEXPRESS;Database=New_PyhonDb;Trusted_Connection=yes;')\n",
    "cursor = cnxn.cursor()\n",
    "result_update = cursor.execute(\"UPDATE [dbo].[Global Superstore-1] SET State = 'Risaralda' WHERE Row_ID = '1' \")\n",
    "result_select = cursor.execute('select * from [dbo].[Global Superstore-1]').fetchmany(5)\n",
    "print(result_select)\n",
    "cnxn.close()"
   ]
  },
  {
   "cell_type": "code",
   "execution_count": null,
   "metadata": {},
   "outputs": [],
   "source": [
    "#Updating the records to the database"
   ]
  },
  {
   "cell_type": "code",
   "execution_count": 4,
   "metadata": {},
   "outputs": [],
   "source": [
    "\n",
    "cnxn = pyodbc.connect('Driver={SQL Server};Server=KTCL-5CG9362KK1\\SQLEXPRESS;Database=New_PyhonDb;Trusted_Connection=yes;')\n",
    "cursor = cnxn.cursor()\n",
    "cursor.execute('SELECT * FROM New_PyhonDb.[dbo].[Global Superstore-1]')\n",
    "cursor.execute('''UPDATE New_PyhonDb.[dbo].[Global Superstore-1]\n",
    "                    SET State = 'Risaralda',Customer_Name = 'Charan Tej P V' \n",
    "                    WHERE Row_ID = '1'\n",
    "                    ''')\n",
    "cnxn.commit()\n"
   ]
  },
  {
   "cell_type": "code",
   "execution_count": null,
   "metadata": {},
   "outputs": [],
   "source": [
    "#Inserting into the database"
   ]
  },
  {
   "cell_type": "code",
   "execution_count": null,
   "metadata": {},
   "outputs": [],
   "source": [
    "cursor = cnxn.cursor()\n",
    "cursor.execute('''INSERT INTO New_PyhonDb.[dbo].[Global Superstore-1] VALUES (80000,'CA-2012-124891','7/31/2012','7/31/2012','Same Day',\n",
    "'RH-3478','Charan Tej','Consumer','New York City','Karnataka','TEC-AC-10003033','Technology','Accessories',\n",
    "'Product Name','Nokia Smart Phone with Caller ID',4000,8,0.3,700,600,'Medium'),(80001,'CA-2012-124891','7/31/2015','7/31/2015',\n",
    "'Same Day','RH-3478','Chandan','Consumer','New York City','Karnataka','TEC-AC-10003033','Technology','Accessories',\n",
    "'Product Name','Nokia Smart Phone with Caller ID',3000,8,0.5,700,800,'Critical'),(80002,'CA-2012-124891','7/31/2016','7/31/2016','Standard',\n",
    "'RH-3478','Sneha','Consumer','New York City','Karnataka','TEC-AC-10003033','Technology','Accessories','Nokia Smart Phone with Caller ID',6000,\n",
    "5,0.6,700,567,'Medium'),(80003,'CA-2012-124891','7/31/2012','7/31/2012','Same Day','RH-3478','Maruthi','Consumer','New York City',\n",
    "'Karnataka','TEC-AC-10003033','Technology','Accessories','Nokia Smart Phone, with Caller ID',5000,4,0.4,756,687,'Critical'),(80004,\n",
    "'CA-2012-124891','7/31/2012','7/31/2012','Same Day','RH-3478','Ankit','Consumer','New York City','Karnataka','TEC-AC-10003033',\n",
    "'Technology','Accessories','Nokia Smart Phone, with Caller ID',9000,12,0.1,398,800,'Medium'),(80005,'CA-2012-124891','7/31/2012','7/31/2012',\n",
    "'Same Day','RH-3478','Avinash','Consumer','New York City','Karnataka','TEC-AC-10003033','Technology','Accessories','Nokia Smart Phone, with Caller ID',7000,13,0.2,400,600,'Medium')''')\n",
    "cnxn.commit()"
   ]
  },
  {
   "cell_type": "code",
   "execution_count": 9,
   "metadata": {},
   "outputs": [],
   "source": [
    "cursor=cnxn.cursor()\n",
    "cursor.execute('''Insert into New_PyhonDb.[dbo].[Global Superstore-1] values(60007,'CA-2012-124891','12/27/2014','9/30/2015','First Class','RH-19495','Ankit','Consumer','Banglore','Karnataka','INDIA',1,'APAC','North','TEC-AC-10003033', 'Technology','Accessories','OPPO',10000,2,0.0,458,234,'Medium'),\n",
    "(60008,'CA-2012-124891','12/27/2014','9/30/2015','First Class','RH-19495','Sagar','Consumer','Chickamagalur','Karnataka','INDIA',1,'APAC','North','TEC-AC-10003033', 'Technology','Accessories','OPPO',10500,2,0.0,458,234,'Medium')''')\n",
    "cnxn.commit()"
   ]
  },
  {
   "cell_type": "code",
   "execution_count": null,
   "metadata": {},
   "outputs": [],
   "source": [
    "#Updating the values to the table"
   ]
  },
  {
   "cell_type": "code",
   "execution_count": 10,
   "metadata": {},
   "outputs": [],
   "source": [
    "cursor = cnxn.cursor()\n",
    "cursor.execute('''UPDATE New_PyhonDb.[dbo].[Global Superstore-1]\n",
    "SET Customer_Name ='Charan Tej',City = 'Bangalore' \n",
    "WHERE Row_ID = 60008''')\n",
    "cnxn.commit()"
   ]
  },
  {
   "cell_type": "code",
   "execution_count": null,
   "metadata": {},
   "outputs": [],
   "source": [
    "#Deleting the records from the table"
   ]
  },
  {
   "cell_type": "code",
   "execution_count": 11,
   "metadata": {},
   "outputs": [],
   "source": [
    "cursor = cnxn.cursor()\n",
    "cursor.execute('''DELETE FROM  New_PyhonDb.[dbo].[Global Superstore-1] WHERE City ='Bangalore' ''')\n",
    "cnxn.commit()"
   ]
  },
  {
   "cell_type": "code",
   "execution_count": 12,
   "metadata": {},
   "outputs": [],
   "source": [
    "#Fetching last 10 recodrs"
   ]
  },
  {
   "cell_type": "code",
   "execution_count": null,
   "metadata": {},
   "outputs": [],
   "source": [
    "cursor = cnxn.cursor()\n",
    "Fetch_last_Ten = cursor.execute('''SELECT TOP 10 * FROM New_PyhonDb.[dbo].[Global Superstore-1] ORDER BY [Row_ID] DESC''').fetchall()\n",
    "print(Fetch_last_Ten)\n",
    "cnxn.commit()"
   ]
  },
  {
   "cell_type": "code",
   "execution_count": 16,
   "metadata": {},
   "outputs": [],
   "source": [
    "#Using Aggregate Functions "
   ]
  },
  {
   "cell_type": "code",
   "execution_count": null,
   "metadata": {},
   "outputs": [],
   "source": [
    "#Minimum Sales "
   ]
  },
  {
   "cell_type": "code",
   "execution_count": null,
   "metadata": {},
   "outputs": [],
   "source": [
    "cursor = cnxn.cursor()\n",
    "Minimum_Sales = cnxn.execute('''SELECT State,MIN(Sales) FROM New_PyhonDb.[dbo].[Global Superstore-1] GROUP BY State''').fetchall()\n",
    "print(Minimum_Sales)\n",
    "cnxn.commit()"
   ]
  },
  {
   "cell_type": "code",
   "execution_count": 18,
   "metadata": {},
   "outputs": [],
   "source": [
    "#Maximum Sales "
   ]
  },
  {
   "cell_type": "code",
   "execution_count": null,
   "metadata": {},
   "outputs": [],
   "source": [
    "cursor = cnxn.cursor()\n",
    "Maximum_Sales = cnxn.execute('''SELECT State,MAX(Sales) FROM New_PyhonDb.[dbo].[Global Superstore-1] GROUP BY State''').fetchall()\n",
    "print(Maximum_Sales)\n",
    "cnxn.commit()"
   ]
  },
  {
   "cell_type": "code",
   "execution_count": 20,
   "metadata": {},
   "outputs": [],
   "source": [
    "#Count of Sales by state"
   ]
  },
  {
   "cell_type": "code",
   "execution_count": null,
   "metadata": {},
   "outputs": [],
   "source": [
    "cursor = cnxn.cursor()\n",
    "Count_of_Sales = cnxn.execute('''SELECT State, Count(*) FROM New_PyhonDb.[dbo].[Global Superstore-1] GROUP BY State''').fetchall()\n",
    "print(Count_of_Sales)\n",
    "cnxn.commit()"
   ]
  },
  {
   "cell_type": "code",
   "execution_count": 23,
   "metadata": {},
   "outputs": [],
   "source": [
    "#Total Number of Sales "
   ]
  },
  {
   "cell_type": "code",
   "execution_count": null,
   "metadata": {},
   "outputs": [],
   "source": [
    "cursor = cnxn.cursor()\n",
    "Total_Sales = cnxn.execute('''SELECT State, SUM(Sales) FROM New_PyhonDb.[dbo].[Global Superstore-1] GROUP BY State''').fetchall()\n",
    "print(Total_Sales)\n",
    "cnxn.commit()\n",
    "cnxn.close()"
   ]
  },
  {
   "cell_type": "code",
   "execution_count": null,
   "metadata": {},
   "outputs": [],
   "source": []
  }
 ],
 "metadata": {
  "kernelspec": {
   "display_name": "Python 3",
   "language": "python",
   "name": "python3"
  },
  "language_info": {
   "codemirror_mode": {
    "name": "ipython",
    "version": 3
   },
   "file_extension": ".py",
   "mimetype": "text/x-python",
   "name": "python",
   "nbconvert_exporter": "python",
   "pygments_lexer": "ipython3",
   "version": "3.7.1"
  }
 },
 "nbformat": 4,
 "nbformat_minor": 2
}
