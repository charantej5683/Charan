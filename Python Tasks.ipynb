{
 "cells": [
  {
   "cell_type": "code",
   "execution_count": null,
   "metadata": {},
   "outputs": [],
   "source": [
    "##Different fuctions "
   ]
  },
  {
   "cell_type": "code",
   "execution_count": 2,
   "metadata": {},
   "outputs": [
    {
     "name": "stdout",
     "output_type": "stream",
     "text": [
      "Emp Name Charan\n",
      "Emp Role Intern\n"
     ]
    }
   ],
   "source": [
    "def Argfunc(empname, emprole):\n",
    "    print('Emp Name',empname)\n",
    "    print('Emp Role',emprole)\n",
    "    return;\n",
    "Argfunc(empname = \"Charan\",emprole = 'Intern')"
   ]
  },
  {
   "cell_type": "code",
   "execution_count": null,
   "metadata": {},
   "outputs": [],
   "source": [
    "##Reverse fuction"
   ]
  },
  {
   "cell_type": "code",
   "execution_count": 3,
   "metadata": {},
   "outputs": [
    {
     "name": "stdout",
     "output_type": "stream",
     "text": [
      "htiknA\n"
     ]
    }
   ],
   "source": [
    "def reverse_Func(R):\n",
    "    return R[::-1];\n",
    "mytxt = reverse_Func(\"Ankith\")\n",
    "print(mytxt)"
   ]
  },
  {
   "cell_type": "code",
   "execution_count": 1,
   "metadata": {},
   "outputs": [
    {
     "name": "stdout",
     "output_type": "stream",
     "text": [
      "The reversed string is :  \n",
      "jeTnarahC\n"
     ]
    }
   ],
   "source": [
    "def rev(X):\n",
    "    str = \"\"\n",
    "    for i in X:\n",
    "        str = i + str\n",
    "    return str;\n",
    "Y =  rev(\"CharanTej\")\n",
    "print(\"The reversed string is : \",\"\")\n",
    "print(Y)"
   ]
  },
  {
   "cell_type": "code",
   "execution_count": 7,
   "metadata": {},
   "outputs": [
    {
     "name": "stdout",
     "output_type": "stream",
     "text": [
      "jeTnarahC\n"
     ]
    }
   ],
   "source": [
    "def rev(X):\n",
    "    if len(X) == 0:\n",
    "        return X\n",
    "    else:\n",
    "        return rev(X[1:]) + X[0];\n",
    "X = \"CharanTej\"\n",
    "print(rev(X))\n"
   ]
  },
  {
   "cell_type": "code",
   "execution_count": null,
   "metadata": {},
   "outputs": [],
   "source": [
    "###Bubble Sort "
   ]
  },
  {
   "cell_type": "code",
   "execution_count": null,
   "metadata": {},
   "outputs": [],
   "source": [
    "import time\n",
    "print(start_time)\n",
    "def bubblesort(list):\n",
    "    start_time = time.time()\n",
    "    for i in range (len(list)-1,0,-1):\n",
    "        for j in range (i):\n",
    "            if list[j]>list[j+1]:\n",
    "                temp = list[j]\n",
    "                list[j] = list[j+1]\n",
    "                list[j+1] = temp\n",
    "    print(\"--- %s seconds ---\" % (time.time() - start_time))\n",
    "\n",
    "list = [19,2,4,16\n",
    "        ,17,6,5,8,23]\n",
    "bubblesort(list)\n",
    "print(list)\n"
   ]
  },
  {
   "cell_type": "code",
   "execution_count": null,
   "metadata": {},
   "outputs": [],
   "source": [
    "## Merge Sort Code"
   ]
  },
  {
   "cell_type": "code",
   "execution_count": null,
   "metadata": {},
   "outputs": [],
   "source": [
    "def merge_sort(list):\n",
    "    if len(list) > 1:  ## Comparision \n",
    "        middle = len(list)//2\n",
    "        left_list = list[:middle]\n",
    "        right_list = list[middle:]\n",
    "\n",
    "        left_list=merge_sort(left_list)\n",
    "        right_list=merge_sort(right_list)\n",
    "        i=0\n",
    "        j=0\n",
    "        k=0\n",
    "    while i<len(left_list) and j<len(right_list):\n",
    "        if left_list[i]<=right_list[j]:\n",
    "            list[k]=left_list[i]\n",
    "            i = i+1\n",
    "        else:\n",
    "            list[k] = right_list[j]\n",
    "            j = j+1\n",
    "            k = k+1\n",
    "    while i<len(left_list):\n",
    "        list[k] = left_list[i]\n",
    "        i=i+1\n",
    "        k=k+1\n",
    "    while j<len(right_list):\n",
    "        list[k] = right_list[i]\n",
    "        j = j+1\n",
    "        k = k+1\n",
    "list = [19,2,4,16,17,6,5,8,23]\n",
    "merge_sort(list)\n",
    "print (\"Mergesort\",list)\n"
   ]
  },
  {
   "cell_type": "code",
   "execution_count": null,
   "metadata": {},
   "outputs": [],
   "source": [
    "###Insertion sort"
   ]
  },
  {
   "cell_type": "code",
   "execution_count": 22,
   "metadata": {},
   "outputs": [
    {
     "name": "stdout",
     "output_type": "stream",
     "text": [
      " 5\n",
      " 6\n",
      " 11\n",
      " 12\n",
      " 13\n"
     ]
    }
   ],
   "source": [
    "def insertionSort(arr):\n",
    "    for i in range(1, len(arr)):\n",
    "        key = arr[i]\n",
    "        j = i-1\n",
    "        while j >= 0 and key < arr[j] : \n",
    "                arr[j + 1] = arr[j] \n",
    "                j -= 1\n",
    "        arr[j + 1] = key \n",
    "arr = [12, 11, 13, 5, 6] \n",
    "insertionSort(arr) \n",
    "for i in range(len(arr)): \n",
    "    print (\"% d\" % arr[i])       "
   ]
  },
  {
   "cell_type": "code",
   "execution_count": null,
   "metadata": {},
   "outputs": [],
   "source": [
    "###Selection sort"
   ]
  },
  {
   "cell_type": "code",
   "execution_count": null,
   "metadata": {},
   "outputs": [],
   "source": [
    "\n",
    "def selectionsort(list):\n",
    "    i = 0\n",
    "    while i<len(list):\n",
    "        smallest = min(list[i:])\n",
    "        index_of_smallest = list.index(smallest)\n",
    "        list[i],list[index_of_smallest] = list[index_of_smallest],list[i]\n",
    "    i=i+1\n",
    "    print(list)\n",
    "list = [16, 19, 11, 15, 10, 12, 14]    \n",
    "selectionsort(list)\n"
   ]
  },
  {
   "cell_type": "code",
   "execution_count": null,
   "metadata": {},
   "outputs": [],
   "source": []
  }
 ],
 "metadata": {
  "kernelspec": {
   "display_name": "Python 3",
   "language": "python",
   "name": "python3"
  },
  "language_info": {
   "codemirror_mode": {
    "name": "ipython",
    "version": 3
   },
   "file_extension": ".py",
   "mimetype": "text/x-python",
   "name": "python",
   "nbconvert_exporter": "python",
   "pygments_lexer": "ipython3",
   "version": "3.7.1"
  }
 },
 "nbformat": 4,
 "nbformat_minor": 2
}
